{
 "cells": [
  {
   "cell_type": "code",
   "execution_count": null,
   "id": "369b8ca4-6df9-4175-b4bb-ed49fbe7ea13",
   "metadata": {},
   "outputs": [],
   "source": []
  }
 ],
 "metadata": {
  "kernelspec": {
   "display_name": "",
   "name": ""
  },
  "language_info": {
   "name": ""
  }
 },
 "nbformat": 4,
 "nbformat_minor": 5
}
