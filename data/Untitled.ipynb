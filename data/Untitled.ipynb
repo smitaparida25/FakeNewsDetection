{
 "cells": [
  {
   "cell_type": "code",
   "execution_count": 5,
   "id": "369b8ca4-6df9-4175-b4bb-ed49fbe7ea13",
   "metadata": {},
   "outputs": [
    {
     "name": "stdout",
     "output_type": "stream",
     "text": [
      "Index(['title', 'text', 'subject', 'date', 'label'], dtype='object')\n",
      "label\n",
      "0    23481\n",
      "1    21417\n",
      "Name: count, dtype: int64\n",
      "Accuracy: 0.9855233853006682\n",
      "\n",
      "Classification Report:\n",
      "               precision    recall  f1-score   support\n",
      "\n",
      "           0       0.99      0.98      0.99      4669\n",
      "           1       0.98      0.99      0.98      4311\n",
      "\n",
      "    accuracy                           0.99      8980\n",
      "   macro avg       0.99      0.99      0.99      8980\n",
      "weighted avg       0.99      0.99      0.99      8980\n",
      "\n",
      "real\n"
     ]
    }
   ],
   "source": [
    "# Import necessary libraries first\n",
    "import pandas as pd\n",
    "import string\n",
    "from sklearn.feature_extraction.text import TfidfVectorizer\n",
    "from sklearn.model_selection import train_test_split\n",
    "from sklearn.linear_model import LogisticRegression\n",
    "from sklearn.metrics import classification_report, confusion_matrix, accuracy_score\n",
    "import joblib\n",
    "from nltk.corpus import stopwords\n",
    "from nltk.stem import WordNetLemmatizer\n",
    "\n",
    "# Load and prepare datasets\n",
    "df_true = pd.read_csv(\"../data/True.csv\")\n",
    "df_fake = pd.read_csv(\"../data/Fake.csv\")\n",
    "df_true[\"label\"] = 1\n",
    "df_fake[\"label\"] = 0\n",
    "df = pd.concat([df_true, df_fake], ignore_index=True)\n",
    "df = df.sample(frac=1, random_state=42).reset_index(drop=True)\n",
    "\n",
    "# Display dataset information\n",
    "print(df.columns)\n",
    "print(df[\"label\"].value_counts())\n",
    "\n",
    "# Keep only relevant columns and preprocess\n",
    "df = df[[\"text\", \"label\"]]\n",
    "df = df.dropna()\n",
    "df[\"text\"] = df[\"text\"].str.lower()\n",
    "df[\"text\"] = df[\"text\"].str.translate(str.maketrans('', '', string.punctuation))\n",
    "\n",
    "# Create TF-IDF features and split data\n",
    "tfidf = TfidfVectorizer(max_features=5000)\n",
    "X = tfidf.fit_transform(df[\"text\"])\n",
    "X_train, X_test, y_train, y_test = train_test_split(X, df['label'], test_size=0.2, random_state=42)\n",
    "\n",
    "# Define and train model (this should come BEFORE evaluation)\n",
    "model = LogisticRegression()\n",
    "model.fit(X_train, y_train)\n",
    "\n",
    "# Now evaluate the model\n",
    "y_pred = model.predict(X_test)\n",
    "print(\"Accuracy:\", accuracy_score(y_test, y_pred))\n",
    "print(\"\\nClassification Report:\\n\", classification_report(y_test, y_pred))\n",
    "\n",
    "# Save the model and vectorizer\n",
    "joblib.dump(model, \"fakenews_model.pkl\")\n",
    "joblib.dump(tfidf, \"tfidf_vectorizer.pkl\")\n",
    "\n",
    "\n",
    "def preprocess(text):\n",
    "    text = text.lower()\n",
    "    text = text.translate(str.maketrans('', '', string.punctuation))\n",
    "    return text\n",
    "\n",
    "def predict_news(text):\n",
    "    processed = preprocess(text)\n",
    "    vector = tfidf.transform([processed])\n",
    "    prediction = model.predict(vector)\n",
    "    return \"real\" if prediction[0] == 1 else \"fake\"\n",
    "\n",
    "test_article = \"The World Health Organization (WHO) has issued new guidelines urging countries to ramp up vaccinations in response to a resurgence of measles in several regions. The report highlights a 79% increase in global cases compared to the previous year, largely due to disruptions in healthcare during the COVID-19 pandemic. WHO officials emphasize the importance of catch-up immunization campaigns, especially in areas with low vaccination coverage\"\n",
    "print(predict_news(test_article))"
   ]
  },
  {
   "cell_type": "code",
   "execution_count": null,
   "id": "18f5b7e2-410c-4f20-8365-615ef42bf7f6",
   "metadata": {},
   "outputs": [],
   "source": []
  }
 ],
 "metadata": {
  "kernelspec": {
   "display_name": "Python 3 (ipykernel)",
   "language": "python",
   "name": "python3"
  },
  "language_info": {
   "codemirror_mode": {
    "name": "ipython",
    "version": 3
   },
   "file_extension": ".py",
   "mimetype": "text/x-python",
   "name": "python",
   "nbconvert_exporter": "python",
   "pygments_lexer": "ipython3",
   "version": "3.13.2"
  }
 },
 "nbformat": 4,
 "nbformat_minor": 5
}
