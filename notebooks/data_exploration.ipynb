{
 "cells": [
  {
   "cell_type": "code",
   "execution_count": 9,
   "id": "5ec83b42-c603-4dee-8d3e-5aebc7b5188a",
   "metadata": {},
   "outputs": [
    {
     "name": "stdout",
     "output_type": "stream",
     "text": [
      "Index(['title', 'text', 'subject', 'date', 'label'], dtype='object')\n",
      "title      0\n",
      "text       0\n",
      "subject    0\n",
      "date       0\n",
      "label      0\n",
      "dtype: int64\n",
      "label\n",
      "2    23481\n",
      "1    21417\n",
      "Name: count, dtype: int64\n"
     ]
    }
   ],
   "source": [
    "import pandas as pd\n",
    "# df = dataframe\n",
    "# ../ moves up one level, from notebook to FakeNewsDetection\n",
    "df_true = pd.read_csv(\"../data/True.csv\")\n",
    "df_fake = pd.read_csv(\"../data/Fake.csv\")\n",
    "\n",
    "df_true.head(),\n",
    "df_fake.head()\n",
    "df_true[\"label\"] = 1\n",
    "df_fake[\"label\"] = 2\n",
    "\n",
    "df = pd.concat([df_true, df_fake], ignore_index=True)\n",
    "df = df.sample(frac=1, random_state=42).reset_index(drop=True)\n",
    "\n",
    "df.head()\n",
    "\n",
    "print(df.columns)\n",
    "print(df.isnull().sum())\n",
    "print(df[\"label\"].value_counts())"
   ]
  },
  {
   "cell_type": "code",
   "execution_count": null,
   "id": "19bbe19b-da78-4489-859f-3dd89ab74625",
   "metadata": {},
   "outputs": [],
   "source": []
  }
 ],
 "metadata": {
  "kernelspec": {
   "display_name": "Python 3 (ipykernel)",
   "language": "python",
   "name": "python3"
  },
  "language_info": {
   "codemirror_mode": {
    "name": "ipython",
    "version": 3
   },
   "file_extension": ".py",
   "mimetype": "text/x-python",
   "name": "python",
   "nbconvert_exporter": "python",
   "pygments_lexer": "ipython3",
   "version": "3.13.2"
  }
 },
 "nbformat": 4,
 "nbformat_minor": 5
}
